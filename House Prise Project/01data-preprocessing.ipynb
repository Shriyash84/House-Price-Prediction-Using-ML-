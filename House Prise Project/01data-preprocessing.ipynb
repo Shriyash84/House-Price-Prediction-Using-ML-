{
 "cells": [
  {
   "cell_type": "code",
   "execution_count": 23,
   "id": "8732e06d-bfd7-458e-83d7-43c2210b7f40",
   "metadata": {},
   "outputs": [],
   "source": [
    "import numpy as np\n",
    "import pandas as pd\n",
    "import matplotlib.pyplot as plt\n",
    "import seaborn as sns"
   ]
  },
  {
   "cell_type": "code",
   "execution_count": 24,
   "id": "13663876-94bc-4e38-98e9-d73135d88b7f",
   "metadata": {},
   "outputs": [],
   "source": [
    "ds = pd.read_csv(\"data.csv\")"
   ]
  },
  {
   "cell_type": "code",
   "execution_count": 25,
   "id": "3f83ba66-e18a-4444-8fd5-eb89cadf71f6",
   "metadata": {},
   "outputs": [
    {
     "name": "stdout",
     "output_type": "stream",
     "text": [
      "<class 'pandas.core.frame.DataFrame'>\n",
      "RangeIndex: 29451 entries, 0 to 29450\n",
      "Data columns (total 12 columns):\n",
      " #   Column                 Non-Null Count  Dtype  \n",
      "---  ------                 --------------  -----  \n",
      " 0   POSTED_BY              29451 non-null  object \n",
      " 1   UNDER_CONSTRUCTION     29451 non-null  int64  \n",
      " 2   RERA                   29451 non-null  int64  \n",
      " 3   BHK_NO.                29451 non-null  int64  \n",
      " 4   BHK_OR_RK              29451 non-null  object \n",
      " 5   SQUARE_FT              29451 non-null  float64\n",
      " 6   READY_TO_MOVE          29451 non-null  int64  \n",
      " 7   RESALE                 29451 non-null  int64  \n",
      " 8   ADDRESS                29451 non-null  object \n",
      " 9   LONGITUDE              29451 non-null  float64\n",
      " 10  LATITUDE               29451 non-null  float64\n",
      " 11  TARGET(PRICE_IN_LACS)  29451 non-null  float64\n",
      "dtypes: float64(4), int64(5), object(3)\n",
      "memory usage: 2.7+ MB\n"
     ]
    }
   ],
   "source": [
    "ds.info()"
   ]
  },
  {
   "cell_type": "code",
   "execution_count": 26,
   "id": "e6790456-61ec-4259-a720-b7d98b3bb62e",
   "metadata": {},
   "outputs": [],
   "source": [
    "#we found problem in our opinion\n",
    "#SQUARE_FT - Range 300 - 3000 sqft \n",
    "#ADDRESS - Split, City\n",
    "#LONGITUDE, LATITUDE"
   ]
  },
  {
   "cell_type": "code",
   "execution_count": 27,
   "id": "17682dce-61be-4960-9815-96064fda7623",
   "metadata": {},
   "outputs": [],
   "source": [
    "#Remove Column\n",
    "ds = ds.drop(columns=[\"LATITUDE\",\"LONGITUDE\"])"
   ]
  },
  {
   "cell_type": "code",
   "execution_count": 28,
   "id": "04c5b775-dbca-4646-ba8b-b1570ee0efc0",
   "metadata": {},
   "outputs": [],
   "source": [
    "# Outliers Remove based on SQUARE_FT\n",
    "for i in ds.index:\n",
    "    if ds.loc[i, \"SQUARE_FT\"] > 3000 or ds.loc[i, \"SQUARE_FT\"] < 300:\n",
    "        ds.drop(i, inplace = True)"
   ]
  },
  {
   "cell_type": "code",
   "execution_count": 29,
   "id": "0eb28742-ec05-4719-b166-147cf6ed6593",
   "metadata": {},
   "outputs": [],
   "source": [
    "# Outliers Remove based on TARGET(PRICE_IN_LACS)\n",
    "for i in ds.index:\n",
    "    if ds.loc[i, \"TARGET(PRICE_IN_LACS)\"] > 120 or ds.loc[i, \"TARGET(PRICE_IN_LACS)\"] < 3:\n",
    "        ds.drop(i, inplace = True)"
   ]
  },
  {
   "cell_type": "code",
   "execution_count": 30,
   "id": "47792e66-a4f6-4624-9a1f-7c9f6c8705e9",
   "metadata": {},
   "outputs": [],
   "source": [
    "# round 2 Decimal Places in SQUARE_FT\n",
    "for i in ds.index:\n",
    "    ds.loc[i, \"SQUARE_FT\"] = round(ds.loc[i,\"SQUARE_FT\"],2)    "
   ]
  },
  {
   "cell_type": "code",
   "execution_count": 40,
   "id": "707f2ac6-ddd8-4ae4-b0e5-fddd7cf278ef",
   "metadata": {},
   "outputs": [],
   "source": [
    "#ADDRESS - Split, City \n",
    "ds['CITY'] = ds['ADDRESS'].str.split(\",\").str.get(-1).str.strip()"
   ]
  },
  {
   "cell_type": "code",
   "execution_count": 41,
   "id": "32ee973e-5f80-40da-899c-bf2488712e50",
   "metadata": {},
   "outputs": [],
   "source": [
    "for i in ds.index:\n",
    "    address = ds.loc[i, \"ADDRESS\"]\n",
    "    city = ds.loc[i, \"CITY\"]\n",
    "    address = address.replace(\",\" + city, \"\")\n",
    "    ds.loc[i, \"ADDRESS\"] = address"
   ]
  },
  {
   "cell_type": "code",
   "execution_count": 42,
   "id": "3d561c51-35e3-4898-97ce-4af7f8590224",
   "metadata": {},
   "outputs": [],
   "source": [
    "# saved data \n",
    "ds.to_csv(\"cleaned_data.csv\")"
   ]
  },
  {
   "cell_type": "code",
   "execution_count": null,
   "id": "7bd32a09-eca8-41db-b37f-2b0b3b75dbe1",
   "metadata": {},
   "outputs": [],
   "source": []
  }
 ],
 "metadata": {
  "kernelspec": {
   "display_name": "Python 3 (ipykernel)",
   "language": "python",
   "name": "python3"
  },
  "language_info": {
   "codemirror_mode": {
    "name": "ipython",
    "version": 3
   },
   "file_extension": ".py",
   "mimetype": "text/x-python",
   "name": "python",
   "nbconvert_exporter": "python",
   "pygments_lexer": "ipython3",
   "version": "3.12.7"
  }
 },
 "nbformat": 4,
 "nbformat_minor": 5
}
